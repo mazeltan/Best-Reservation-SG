{
 "cells": [
  {
   "cell_type": "code",
   "execution_count": 90,
   "id": "dd45d72e",
   "metadata": {},
   "outputs": [],
   "source": [
    "files = ['chinese_food.json', 'indian_food.json', 'japanese_food.json', 'muslim_food.json', 'western_food.json']\n",
    "result_files = ['clean_' + text for text in files]"
   ]
  },
  {
   "cell_type": "code",
   "execution_count": 99,
   "id": "96edda28",
   "metadata": {},
   "outputs": [
    {
     "name": "stdout",
     "output_type": "stream",
     "text": [
      "Keys: dict_keys(['status', 'data', 'nextToken'])\n",
      "Keys: dict_keys(['status', 'data', 'nextToken'])\n",
      "Keys: dict_keys(['status', 'data', 'nextToken'])\n",
      "Keys: dict_keys(['status', 'data', 'nextToken'])\n",
      "Keys: dict_keys(['status', 'data', 'nextToken'])\n"
     ]
    }
   ],
   "source": [
    "def sanitizerJSON(path_to_file, path_to_result, selection=None):\n",
    "\n",
    "    import json \n",
    "    with open(path_to_file, encoding='utf-8') as file:\n",
    "        f = json.load(file)\n",
    "        print(\"Keys:\", f.keys())\n",
    "        data = f.get('data')\n",
    "        data_1 = data[0]\n",
    "\n",
    "        # Set Up\n",
    "        if selection:\n",
    "            result = {}\n",
    "            for index, d in enumerate(data):\n",
    "                    result.update({index: {}})\n",
    "                    for k in selection:\n",
    "                        result.get(index).update({k: data[index].get(k)})\n",
    "        else: \n",
    "            dict_of_keys = {}\n",
    "\n",
    "            for index, key in enumerate(data_1.keys()):\n",
    "                dict_of_keys.update({index: key})\n",
    "\n",
    "            # Get Information on Structure of data\n",
    "            print(\"\\nLength of keys:\", len(data_1.keys()))\n",
    "            print(\"\\n\".join([\" - \".join((str(i), j )) for i, j in enumerate(data_1.keys())]))\n",
    "\n",
    "            # Select Data to Show\n",
    "            data_to_extract = [int(i) for i in input(\"Enter index of data you want\").split(',')]\n",
    "\n",
    "            # Extract Data\n",
    "            result = {}\n",
    "            for index, d in enumerate(data):\n",
    "                result.update({index: {}})\n",
    "                for k in data_to_extract:\n",
    "                    key = dict_of_keys.get(k)\n",
    "                    result.get(index).update({key: data[index].get(key)})\n",
    "\n",
    "        # Write to JSON\n",
    "        with open(path_to_result, 'w', encoding='utf-8') as result_file:\n",
    "            r = json.dumps(result)\n",
    "            result_file.write(r)\n",
    "        return result\n",
    "\n",
    "for i in range(len(files)):\n",
    "    sanitizerJSON(files[i], result_files[i], ['thumbnails', 'images', 'body', 'uuid', 'rating', 'contact', 'officialWebsite', 'officialEmail', 'description', 'address', 'name'])"
   ]
  },
  {
   "cell_type": "code",
   "execution_count": null,
   "id": "8b6aeb70",
   "metadata": {},
   "outputs": [],
   "source": []
  }
 ],
 "metadata": {
  "kernelspec": {
   "display_name": "Python 3 (ipykernel)",
   "language": "python",
   "name": "python3"
  },
  "language_info": {
   "codemirror_mode": {
    "name": "ipython",
    "version": 3
   },
   "file_extension": ".py",
   "mimetype": "text/x-python",
   "name": "python",
   "nbconvert_exporter": "python",
   "pygments_lexer": "ipython3",
   "version": "3.9.7"
  }
 },
 "nbformat": 4,
 "nbformat_minor": 5
}
